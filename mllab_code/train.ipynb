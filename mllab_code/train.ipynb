{
 "cells": [
  {
   "cell_type": "code",
   "execution_count": null,
   "metadata": {
    "execution": {
     "iopub.execute_input": "2021-06-13T11:09:02.209975Z",
     "iopub.status.busy": "2021-06-13T11:09:02.209608Z",
     "iopub.status.idle": "2021-06-13T11:09:02.21515Z",
     "shell.execute_reply": "2021-06-13T11:09:02.213837Z",
     "shell.execute_reply.started": "2021-06-13T11:09:02.20994Z"
    },
    "papermill": {
     "duration": 0.023071,
     "end_time": "2021-03-25T15:08:44.351158",
     "exception": false,
     "start_time": "2021-03-25T15:08:44.328087",
     "status": "completed"
    },
    "tags": []
   },
   "outputs": [],
   "source": [
    "import sys\n",
    "sys.path.append('/kaggle/input/efficientnet-keras-dataset/efficientnet_kaggle')"
   ]
  },
  {
   "cell_type": "code",
   "execution_count": null,
   "metadata": {
    "execution": {
     "iopub.execute_input": "2021-06-13T11:09:04.131658Z",
     "iopub.status.busy": "2021-06-13T11:09:04.131281Z",
     "iopub.status.idle": "2021-06-13T11:09:04.137336Z",
     "shell.execute_reply": "2021-06-13T11:09:04.136273Z",
     "shell.execute_reply.started": "2021-06-13T11:09:04.131629Z"
    },
    "papermill": {
     "duration": 9.346794,
     "end_time": "2021-03-25T15:08:53.712259",
     "exception": false,
     "start_time": "2021-03-25T15:08:44.365465",
     "status": "completed"
    },
    "tags": []
   },
   "outputs": [],
   "source": [
    "from kaggle_datasets import KaggleDatasets\n",
    "from sklearn.model_selection import KFold\n",
    "import efficientnet.tfkeras as efn\n",
    "import matplotlib.pyplot as plt\n",
    "import tensorflow_addons as tfa\n",
    "import tensorflow as tf\n",
    "import pandas as pd\n",
    "import numpy as np\n",
    "import os"
   ]
  },
  {
   "cell_type": "markdown",
   "metadata": {
    "papermill": {
     "duration": 0.014189,
     "end_time": "2021-03-25T15:08:53.740753",
     "exception": false,
     "start_time": "2021-03-25T15:08:53.726564",
     "status": "completed"
    },
    "tags": []
   },
   "source": [
    "### TPU 환경 혹은 GPU 선택"
   ]
  },
  {
   "cell_type": "code",
   "execution_count": null,
   "metadata": {
    "_kg_hide-input": true,
    "execution": {
     "iopub.execute_input": "2021-06-13T11:09:05.979741Z",
     "iopub.status.busy": "2021-06-13T11:09:05.979299Z",
     "iopub.status.idle": "2021-06-13T11:09:11.581147Z",
     "shell.execute_reply": "2021-06-13T11:09:11.579959Z",
     "shell.execute_reply.started": "2021-06-13T11:09:05.979644Z"
    },
    "papermill": {
     "duration": 5.782414,
     "end_time": "2021-03-25T15:08:59.537638",
     "exception": false,
     "start_time": "2021-03-25T15:08:53.755224",
     "status": "completed"
    },
    "tags": []
   },
   "outputs": [],
   "source": [
    "print('Using tensorflow %s' % tf.__version__)\n",
    "\n",
    "try:\n",
    "    tpu = tf.distribute.cluster_resolver.TPUClusterResolver()\n",
    "    tf.config.experimental_connect_to_cluster(tpu)\n",
    "    tf.tpu.experimental.initialize_tpu_system(tpu)\n",
    "    strategy = tf.distribute.experimental.TPUStrategy(tpu)\n",
    "    print('Running on TPUv3-8')\n",
    "except:\n",
    "    tpu = None\n",
    "    tf.keras.mixed_precision.set_global_policy('mixed_float16')\n",
    "    strategy = tf.distribute.get_strategy()\n",
    "    print('Running on GPU with mixed precision')\n",
    "\n",
    "batch_size = 16 * strategy.num_replicas_in_sync\n",
    "\n",
    "print('Number of replicas:', strategy.num_replicas_in_sync)\n",
    "print('Batch size: %.i' % batch_size)"
   ]
  },
  {
   "cell_type": "markdown",
   "metadata": {
    "papermill": {
     "duration": 0.014262,
     "end_time": "2021-03-25T15:08:59.567709",
     "exception": false,
     "start_time": "2021-03-25T15:08:59.553447",
     "status": "completed"
    },
    "tags": []
   },
   "source": [
    "### Configurations\n"
   ]
  },
  {
   "cell_type": "code",
   "execution_count": null,
   "metadata": {
    "execution": {
     "iopub.execute_input": "2021-06-13T11:09:15.644075Z",
     "iopub.status.busy": "2021-06-13T11:09:15.643715Z",
     "iopub.status.idle": "2021-06-13T11:09:17.234091Z",
     "shell.execute_reply": "2021-06-13T11:09:17.233234Z",
     "shell.execute_reply.started": "2021-06-13T11:09:15.644044Z"
    },
    "papermill": {
     "duration": 1.950559,
     "end_time": "2021-03-25T15:09:01.533308",
     "exception": false,
     "start_time": "2021-03-25T15:08:59.582749",
     "status": "completed"
    },
    "tags": []
   },
   "outputs": [],
   "source": [
    "class CFG():\n",
    "\n",
    "    strategy = strategy\n",
    "    batch_size = batch_size\n",
    "    \n",
    "    img_size = 600\n",
    "    classes = [\n",
    "        'complex', \n",
    "        'frog_eye_leaf_spot', \n",
    "        'powdery_mildew', \n",
    "        'rust', \n",
    "        'scab']\n",
    "    \n",
    "    gcs_path_raw = KaggleDatasets().get_gcs_path('pp2021-kfold-tfrecords-0')\n",
    "    \n",
    "    gcs_path_aug = [\n",
    "        KaggleDatasets().get_gcs_path('pp2021-kfold-tfrecords'),\n",
    "        KaggleDatasets().get_gcs_path('pp2021-kfold-tfrecords-1'),\n",
    "        KaggleDatasets().get_gcs_path('pp2021-kfold-tfrecords-2'),\n",
    "        KaggleDatasets().get_gcs_path('pp2021-kfold-tfrecords-3')]\n",
    "    \n",
    "\n",
    "    seed = 42 \n",
    "    epochs = 100 \n",
    "    patience = [5, 2] \n",
    "    factor = .1 \n",
    "    min_lr = 1e-3 \n",
    "    \n",
    "    verbose = 2 \n",
    "    \n",
    "    folds = 5 \n",
    "    used_folds = [0, 1, 2, 3, 4] "
   ]
  },
  {
   "cell_type": "code",
   "execution_count": null,
   "metadata": {
    "_kg_hide-input": true,
    "execution": {
     "iopub.execute_input": "2021-06-13T11:09:20.975196Z",
     "iopub.status.busy": "2021-06-13T11:09:20.974826Z",
     "iopub.status.idle": "2021-06-13T11:09:20.996668Z",
     "shell.execute_reply": "2021-06-13T11:09:20.995744Z",
     "shell.execute_reply.started": "2021-06-13T11:09:20.975166Z"
    },
    "papermill": {
     "duration": 0.036101,
     "end_time": "2021-03-25T15:09:01.616541",
     "exception": false,
     "start_time": "2021-03-25T15:09:01.58044",
     "status": "completed"
    },
    "tags": []
   },
   "outputs": [],
   "source": [
    "def count_data_items(filenames):\n",
    "    return np.sum([int(x[:-6].split('-')[-1]) for x in filenames])\n",
    "\n",
    "\n",
    "def decode_image(image_data):\n",
    "    image = tf.image.decode_jpeg(image_data, channels=3)\n",
    "    image = tf.reshape(image, [CFG.img_size, CFG.img_size, 3])\n",
    "    image = tf.cast(image, tf.float32) / 255.\n",
    "    return image\n",
    "\n",
    "\n",
    "feature_map = {\n",
    "    'image': tf.io.FixedLenFeature([], tf.string),\n",
    "    'image_name': tf.io.FixedLenFeature([], tf.string),\n",
    "    'complex': tf.io.FixedLenFeature([], tf.int64),\n",
    "    'frog_eye_leaf_spot': tf.io.FixedLenFeature([], tf.int64),\n",
    "    'powdery_mildew': tf.io.FixedLenFeature([], tf.int64),\n",
    "    'rust': tf.io.FixedLenFeature([], tf.int64),\n",
    "    'scab': tf.io.FixedLenFeature([], tf.int64),\n",
    "    'healthy': tf.io.FixedLenFeature([], tf.int64)}\n",
    "\n",
    "\n",
    "def read_tfrecord(example, labeled=True):\n",
    "    example = tf.io.parse_single_example(example, feature_map)\n",
    "    image = decode_image(example['image'])\n",
    "    if labeled:\n",
    "        label = [tf.cast(example[x], tf.float32) for x in CFG.classes]\n",
    "    else:\n",
    "        label = example['image_name']\n",
    "    return image, label\n",
    "\n",
    "\n",
    "def get_dataset(filenames, labeled=True, ordered=True, shuffled=False, \n",
    "                repeated=False, cached=False, distributed=True):\n",
    "    auto = tf.data.experimental.AUTOTUNE\n",
    "    dataset = tf.data.TFRecordDataset(filenames, num_parallel_reads=auto)\n",
    "    if not ordered:\n",
    "        ignore_order = tf.data.Options()\n",
    "        ignore_order.experimental_deterministic = False\n",
    "        dataset = dataset.with_options(ignore_order)\n",
    "    dataset = dataset.map(\n",
    "        lambda x: read_tfrecord(x, labeled=labeled), \n",
    "        num_parallel_calls=auto)\n",
    "    if shuffled:\n",
    "        dataset = dataset.shuffle(2048, seed=CFG.seed)\n",
    "    if repeated:\n",
    "        dataset = dataset.repeat()\n",
    "    dataset = dataset.batch(CFG.batch_size)\n",
    "    if cached:\n",
    "        dataset = dataset.cache()\n",
    "    dataset = dataset.prefetch(auto)\n",
    "    if distributed:\n",
    "        dataset = CFG.strategy.experimental_distribute_dataset(dataset)\n",
    "    return dataset\n",
    "\n",
    "\n",
    "def get_model():\n",
    "    model = tf.keras.models.Sequential(name='EfficientNetB5')\n",
    "    \n",
    "    model.add(efn.EfficientNetB5(\n",
    "        include_top=False,\n",
    "        input_shape=(CFG.img_size, CFG.img_size, 3),\n",
    "        weights=None,\n",
    "        pooling='avg'))\n",
    "    \n",
    "    model.add(tf.keras.layers.Dense(len(CFG.classes), \n",
    "        kernel_initializer=tf.keras.initializers.RandomUniform(seed=CFG.seed),\n",
    "        bias_initializer=tf.keras.initializers.Zeros(), name='dense_top'))\n",
    "    model.add(tf.keras.layers.Activation('sigmoid', dtype='float32'))\n",
    "    \n",
    "    return model"
   ]
  },
  {
   "cell_type": "markdown",
   "metadata": {
    "papermill": {
     "duration": 0.014766,
     "end_time": "2021-03-25T15:09:01.69031",
     "exception": false,
     "start_time": "2021-03-25T15:09:01.675544",
     "status": "completed"
    },
    "tags": []
   },
   "source": [
    "### Augmentation 이미지 확인"
   ]
  },
  {
   "cell_type": "code",
   "execution_count": null,
   "metadata": {
    "_kg_hide-input": true,
    "execution": {
     "iopub.execute_input": "2021-06-13T11:09:29.559012Z",
     "iopub.status.busy": "2021-06-13T11:09:29.558397Z",
     "iopub.status.idle": "2021-06-13T11:09:33.227718Z",
     "shell.execute_reply": "2021-06-13T11:09:33.226945Z",
     "shell.execute_reply.started": "2021-06-13T11:09:29.558962Z"
    },
    "papermill": {
     "duration": 4.630417,
     "end_time": "2021-03-25T15:09:06.337",
     "exception": false,
     "start_time": "2021-03-25T15:09:01.706583",
     "status": "completed"
    },
    "tags": []
   },
   "outputs": [],
   "source": [
    "filenames = tf.io.gfile.glob(os.path.join(CFG.gcs_path_aug[0], 'fold_0/*.tfrec'))[:1]\n",
    "\n",
    "dataset = get_dataset(filenames, ordered=False, distributed=False)\n",
    "\n",
    "plt.figure(figsize=[15, 15])\n",
    "\n",
    "for i, sample in enumerate(dataset.unbatch().take(25).as_numpy_iterator()):\n",
    "    plt.subplot(5, 5, i + 1)\n",
    "    plt.imshow(sample[0])\n",
    "    plt.axis('off')\n",
    "    \n",
    "plt.show()"
   ]
  },
  {
   "cell_type": "code",
   "execution_count": null,
   "metadata": {
    "_kg_hide-input": true,
    "execution": {
     "iopub.execute_input": "2021-06-13T11:09:37.35682Z",
     "iopub.status.busy": "2021-06-13T11:09:37.356238Z",
     "iopub.status.idle": "2021-06-13T11:09:43.375168Z",
     "shell.execute_reply": "2021-06-13T11:09:43.37416Z",
     "shell.execute_reply.started": "2021-06-13T11:09:37.356785Z"
    },
    "papermill": {
     "duration": 9.304484,
     "end_time": "2021-03-25T15:09:15.806485",
     "exception": false,
     "start_time": "2021-03-25T15:09:06.502001",
     "status": "completed"
    },
    "tags": []
   },
   "outputs": [],
   "source": [
    "model = get_model()\n",
    "model.summary()"
   ]
  },
  {
   "cell_type": "markdown",
   "metadata": {
    "papermill": {
     "duration": 0.053191,
     "end_time": "2021-03-25T15:09:15.911454",
     "exception": false,
     "start_time": "2021-03-25T15:09:15.858263",
     "status": "completed"
    },
    "tags": []
   },
   "source": [
    "## 5-fold cross validation"
   ]
  },
  {
   "cell_type": "code",
   "execution_count": null,
   "metadata": {
    "_kg_hide-output": true,
    "execution": {
     "iopub.execute_input": "2021-06-13T08:49:47.246913Z",
     "iopub.status.busy": "2021-06-13T08:49:47.246551Z",
     "iopub.status.idle": "2021-06-13T11:06:41.625491Z",
     "shell.execute_reply": "2021-06-13T11:06:41.623102Z",
     "shell.execute_reply.started": "2021-06-13T08:49:47.246879Z"
    },
    "papermill": {
     "duration": 1146.772608,
     "end_time": "2021-03-25T15:28:22.736556",
     "exception": false,
     "start_time": "2021-03-25T15:09:15.963948",
     "status": "completed"
    },
    "tags": []
   },
   "outputs": [],
   "source": [
    "histories = []\n",
    "scores = []\n",
    "image_names = np.empty((0,))\n",
    "predicts = np.empty((0, len(CFG.classes)))\n",
    "\n",
    "callbacks = [\n",
    "    tf.keras.callbacks.EarlyStopping(\n",
    "        monitor='val_f1_score', mode='max', \n",
    "        patience=CFG.patience[0], restore_best_weights=True),\n",
    "    tf.keras.callbacks.ReduceLROnPlateau(\n",
    "        monitor='val_f1_score', mode='max',\n",
    "        patience=CFG.patience[1], min_lr=CFG.min_lr, verbose=2)]\n",
    "\n",
    "kfold = KFold(n_splits=CFG.folds, shuffle=True, random_state=CFG.seed)\n",
    "folds = ['fold_0', 'fold_1', 'fold_2', 'fold_3', 'fold_4']\n",
    "\n",
    "for i, (train_index, val_index) in enumerate(kfold.split(folds)):\n",
    "    \n",
    "    if i in CFG.used_folds:\n",
    "        \n",
    "        print('=' * 74)\n",
    "        print(f'Fold {i}') \n",
    "        print('=' * 74)\n",
    "        \n",
    "        if tpu is not None: \n",
    "            tf.tpu.experimental.initialize_tpu_system(tpu)\n",
    "        \n",
    "        with CFG.strategy.scope():\n",
    "            model = get_model()\n",
    "            \n",
    "            model.compile(\n",
    "                loss=tf.keras.losses.BinaryCrossentropy(),\n",
    "                optimizer='adam',\n",
    "                metrics=[\n",
    "                    tf.keras.metrics.BinaryAccuracy(name='acc'), \n",
    "                    tfa.metrics.F1Score(\n",
    "                        num_classes=len(CFG.classes), \n",
    "                        average='macro')])\n",
    "            \n",
    "        train_filenames = []\n",
    "        for j in train_index:\n",
    "            train_filenames += tf.io.gfile.glob(os.path.join(CFG.gcs_path_aug[0], folds[j], '*.tfrec'))\n",
    "            train_filenames += tf.io.gfile.glob(os.path.join(CFG.gcs_path_aug[1], folds[j], '*.tfrec'))\n",
    "            train_filenames += tf.io.gfile.glob(os.path.join(CFG.gcs_path_aug[2], folds[j], '*.tfrec'))\n",
    "            train_filenames += tf.io.gfile.glob(os.path.join(CFG.gcs_path_aug[3], folds[j], '*.tfrec'))\n",
    "        np.random.shuffle(train_filenames)\n",
    "            \n",
    "        val_filenames = []\n",
    "        for j in val_index:\n",
    "            val_filenames += tf.io.gfile.glob(os.path.join(CFG.gcs_path_raw, folds[j], '*.tfrec'))\n",
    "\n",
    "        train_dataset = get_dataset(\n",
    "            train_filenames, \n",
    "            ordered=False, shuffled=True, repeated=True)\n",
    "        \n",
    "        val_dataset = get_dataset(\n",
    "            val_filenames, \n",
    "            cached=True)\n",
    "\n",
    "        steps_per_epoch = count_data_items(train_filenames) // (20 * CFG.batch_size)\n",
    "        validation_steps = count_data_items(val_filenames) // CFG.batch_size\n",
    "        \n",
    "        history = model.fit(\n",
    "            train_dataset,\n",
    "            steps_per_epoch=steps_per_epoch,\n",
    "            validation_data=val_dataset,\n",
    "            validation_steps=validation_steps,\n",
    "            callbacks=callbacks,\n",
    "            epochs=CFG.epochs,\n",
    "            verbose=CFG.verbose).history\n",
    "        \n",
    "        size = count_data_items(val_filenames)\n",
    "        steps = size // CFG.batch_size + 1\n",
    "        \n",
    "        val_dataset = get_dataset(val_filenames, labeled=False, distributed=False)\n",
    "        val_predicts = model.predict(\n",
    "            val_dataset.map(lambda x, y: x), \n",
    "            steps=steps, \n",
    "            verbose=CFG.verbose)[:size]\n",
    "        val_image_names = [x.decode() for x in val_dataset.map(lambda x, y: y).unbatch().take(size).as_numpy_iterator()]\n",
    "        \n",
    "        image_names = np.concatenate((image_names, val_image_names))\n",
    "        predicts = np.concatenate((predicts, val_predicts))\n",
    "        \n",
    "        model.save_weights(f'model_{i}.h5')\n",
    "        histories.append(pd.DataFrame(history))\n",
    "        scores.append(histories[-1]['val_f1_score'].max())\n",
    "        \n",
    "    else:\n",
    "        pass"
   ]
  },
  {
   "cell_type": "code",
   "execution_count": null,
   "metadata": {
    "_kg_hide-input": true,
    "execution": {
     "iopub.execute_input": "2021-06-12T16:40:19.086123Z",
     "iopub.status.busy": "2021-06-12T16:40:19.085603Z",
     "iopub.status.idle": "2021-06-12T16:40:19.108811Z",
     "shell.execute_reply": "2021-06-12T16:40:19.107296Z",
     "shell.execute_reply.started": "2021-06-12T16:40:19.086074Z"
    },
    "papermill": {
     "duration": 0.107115,
     "end_time": "2021-03-25T15:28:26.636279",
     "exception": false,
     "start_time": "2021-03-25T15:28:26.529164",
     "status": "completed"
    },
    "tags": []
   },
   "outputs": [],
   "source": [
    "scores_df = pd.DataFrame({\n",
    "    'fold': np.arange(len(scores)),\n",
    "    'f1': np.round(scores, 4)})\n",
    "\n",
    "with pd.option_context('display.max_rows', None):\n",
    "    display(scores_df)\n",
    "\n",
    "print('CV %.4f' % scores_df['f1'].mean())"
   ]
  },
  {
   "cell_type": "code",
   "execution_count": null,
   "metadata": {
    "_kg_hide-input": true,
    "papermill": {
     "duration": 0.725418,
     "end_time": "2021-03-25T15:28:27.433584",
     "exception": false,
     "start_time": "2021-03-25T15:28:26.708166",
     "status": "completed"
    },
    "tags": []
   },
   "outputs": [],
   "source": [
    "figure, axes = plt.subplots(1, 5, figsize=[20, 5])\n",
    "\n",
    "for i in range(CFG.folds):\n",
    "    \n",
    "    try:\n",
    "        axes[i].plot(histories[i].loc[:, 'f1_score'], label='train')\n",
    "        axes[i].plot(histories[i].loc[:, 'val_f1_score'], label='val')\n",
    "        axes[i].legend()\n",
    "    except IndexError:\n",
    "        pass\n",
    "    \n",
    "    axes[i].set_title(f'fold {i}')\n",
    "    axes[i].set_xlabel('epochs')\n",
    "    \n",
    "plt.show()"
   ]
  },
  {
   "cell_type": "code",
   "execution_count": null,
   "metadata": {},
   "outputs": [],
   "source": [
    "predicts_df = pd.DataFrame(\n",
    "    columns=CFG.classes, \n",
    "    data=predicts, \n",
    "    index=pd.Index(data=image_names, name='image'))\n",
    "\n",
    "predicts_df.to_csv('oof_predicts.csv')\n",
    "display(predicts_df.head())"
   ]
  }
 ],
 "metadata": {
  "kernelspec": {
   "display_name": "Python 3",
   "language": "python",
   "name": "python3"
  },
  "language_info": {
   "codemirror_mode": {
    "name": "ipython",
    "version": 3
   },
   "file_extension": ".py",
   "mimetype": "text/x-python",
   "name": "python",
   "nbconvert_exporter": "python",
   "pygments_lexer": "ipython3",
   "version": "3.8.5"
  }
 },
 "nbformat": 4,
 "nbformat_minor": 4
}
